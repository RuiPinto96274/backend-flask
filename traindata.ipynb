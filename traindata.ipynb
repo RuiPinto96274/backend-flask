{
 "cells": [
  {
   "cell_type": "markdown",
   "metadata": {},
   "source": [
    "# Importar os módulos necessários"
   ]
  },
  {
   "cell_type": "code",
   "execution_count": 1,
   "metadata": {},
   "outputs": [],
   "source": [
    "import warnings\n",
    "warnings.filterwarnings(\"ignore\")"
   ]
  },
  {
   "cell_type": "code",
   "execution_count": 2,
   "metadata": {},
   "outputs": [],
   "source": [
    "import pandas as pd\n",
    "import pickle\n",
    "import matplotlib.pyplot as plt\n",
    "import seaborn as sns\n",
    "from sklearn.metrics import (\n",
    "        make_scorer,\n",
    "        confusion_matrix, \n",
    "        cohen_kappa_score, \n",
    "        accuracy_score, \n",
    "        precision_score, \n",
    "        recall_score, \n",
    "        f1_score, \n",
    "        roc_auc_score\n",
    ")\n",
    "from sklearn.model_selection import cross_validate, StratifiedKFold\n",
    "from sklearn.tree import DecisionTreeClassifier # decision trees for classification\n",
    "from sklearn.neural_network import  MLPClassifier # neural networks for classification\n",
    "from sklearn.naive_bayes import GaussianNB # naive bayes for classification\n",
    "from sklearn.svm import SVC # support vector machines for classification\n",
    "from sklearn.preprocessing import StandardScaler\n",
    "from sklearn.ensemble import RandomForestClassifier,StackingClassifier,AdaBoostClassifier\n",
    "from sklearn.neighbors import KNeighborsClassifier\n",
    "from imblearn.over_sampling import SMOTE\n",
    "from sklearn.linear_model import LogisticRegression\n",
    "from xgboost import XGBClassifier\n",
    "\n"
   ]
  },
  {
   "cell_type": "markdown",
   "metadata": {},
   "source": [
    "# Definir as Métricas para Avaliação dos Modelos"
   ]
  },
  {
   "cell_type": "code",
   "execution_count": 3,
   "metadata": {},
   "outputs": [],
   "source": [
    "def specificity_score(y_true, y_pred):\n",
    "    tn, fp, fn, tp = confusion_matrix(y_true, y_pred).ravel()\n",
    "    return tn / (tn+fp)"
   ]
  },
  {
   "cell_type": "code",
   "execution_count": 4,
   "metadata": {},
   "outputs": [],
   "source": [
    "METRICS = {\n",
    "        \"accuracy\": make_scorer(accuracy_score),\n",
    "        \"precision\": make_scorer(precision_score),\n",
    "        #\"recall\": make_scorer(recall_score),\n",
    "        \"f1\": make_scorer(f1_score),\n",
    "        #\"AUC\": make_scorer(roc_auc_score, needs_proba=True),\n",
    "        \"specificity\": make_scorer(specificity_score),\n",
    "        #\"kappa\":make_scorer(cohen_kappa_score)\n",
    "}"
   ]
  },
  {
   "cell_type": "markdown",
   "metadata": {},
   "source": [
    "# Ler o Conjunto de Dados"
   ]
  },
  {
   "cell_type": "code",
   "execution_count": 5,
   "metadata": {},
   "outputs": [
    {
     "name": "stdout",
     "output_type": "stream",
     "text": [
      "<class 'pandas.core.frame.DataFrame'>\n",
      "RangeIndex: 2620 entries, 0 to 2619\n",
      "Data columns (total 10 columns):\n",
      " #   Column           Non-Null Count  Dtype  \n",
      "---  ------           --------------  -----  \n",
      " 0   ph               2223 non-null   float64\n",
      " 1   Hardness         2620 non-null   float64\n",
      " 2   Solids           2620 non-null   float64\n",
      " 3   Chloramines      2620 non-null   float64\n",
      " 4   Sulfate          1999 non-null   float64\n",
      " 5   Conductivity     2620 non-null   float64\n",
      " 6   Organic_carbon   2620 non-null   float64\n",
      " 7   Trihalomethanes  2492 non-null   float64\n",
      " 8   Turbidity        2620 non-null   float64\n",
      " 9   Potability       2620 non-null   int64  \n",
      "dtypes: float64(9), int64(1)\n",
      "memory usage: 204.8 KB\n",
      "None\n"
     ]
    }
   ],
   "source": [
    "train_data = pd.read_csv(\"train.csv\")\n",
    "print(train_data.info())"
   ]
  },
  {
   "cell_type": "code",
   "execution_count": 6,
   "metadata": {},
   "outputs": [],
   "source": [
    "test_data = pd.read_csv(\"test.csv\")\n",
    "#print(test_data.info())"
   ]
  },
  {
   "cell_type": "markdown",
   "metadata": {},
   "source": [
    "# Pre-Processar Dados"
   ]
  },
  {
   "cell_type": "code",
   "execution_count": 7,
   "metadata": {},
   "outputs": [],
   "source": [
    "train_data.fillna(train_data.median(), inplace=True)\n",
    "test_data.fillna(train_data.median(), inplace=True)"
   ]
  },
  {
   "cell_type": "code",
   "execution_count": 8,
   "metadata": {},
   "outputs": [
    {
     "data": {
      "text/plain": [
       "'\\nvalue_counts = train_data[\\'Potability\\'].value_counts()\\n\\nplt.figure(figsize=(6, 6))\\ncolors = [\"salmon\", \"lightgreen\"]\\n\\nsns.set_palette(colors)\\nsns.set_style(\"whitegrid\")\\nplt.pie(value_counts, labels=[\\'Not Potable\\', \\'Potable\\'], autopct=lambda p: f\\'{int(p * sum(value_counts) / 100)}\\n{p:.1f}%\\', startangle=90, pctdistance=0.85)\\nplt.title(\\'Potability\\')\\n\\nplt.show()\\n'"
      ]
     },
     "execution_count": 8,
     "metadata": {},
     "output_type": "execute_result"
    }
   ],
   "source": [
    "\"\"\"\n",
    "value_counts = train_data['Potability'].value_counts()\n",
    "\n",
    "plt.figure(figsize=(6, 6))\n",
    "colors = [\"salmon\", \"lightgreen\"]\n",
    "\n",
    "sns.set_palette(colors)\n",
    "sns.set_style(\"whitegrid\")\n",
    "plt.pie(value_counts, labels=['Not Potable', 'Potable'], autopct=lambda p: f'{int(p * sum(value_counts) / 100)}\\n{p:.1f}%', startangle=90, pctdistance=0.85)\n",
    "plt.title('Potability')\n",
    "\n",
    "plt.show()\n",
    "\"\"\"\n"
   ]
  },
  {
   "cell_type": "code",
   "execution_count": 9,
   "metadata": {},
   "outputs": [
    {
     "data": {
      "text/plain": [
       "'\\nsns.scatterplot(x=train_data[\\'ph\\'],y=train_data[\\'Hardness\\'],color=\"midnightblue\")\\nplt.show()\\n'"
      ]
     },
     "execution_count": 9,
     "metadata": {},
     "output_type": "execute_result"
    }
   ],
   "source": [
    "\"\"\"\n",
    "sns.scatterplot(x=train_data['ph'],y=train_data['Hardness'],color=\"midnightblue\")\n",
    "plt.show()\n",
    "\"\"\""
   ]
  },
  {
   "cell_type": "markdown",
   "metadata": {},
   "source": [
    "# Encontrar outliers"
   ]
  },
  {
   "cell_type": "code",
   "execution_count": 10,
   "metadata": {},
   "outputs": [
    {
     "data": {
      "text/plain": [
       "'\\nfig, ax=plt.subplots(ncols=3, nrows=4, figsize=(15,25))\\nax=ax.flatten()\\nindex=0\\nfor col, values in train_data.items():\\n    if index < len(ax): \\n        sns.boxplot(y=col, data=train_data, ax=ax[index],color=\"#3874a4\")\\n        index += 1\\n    else:\\n        break  \\n'"
      ]
     },
     "execution_count": 10,
     "metadata": {},
     "output_type": "execute_result"
    }
   ],
   "source": [
    "\"\"\"\n",
    "fig, ax=plt.subplots(ncols=3, nrows=4, figsize=(15,25))\n",
    "ax=ax.flatten()\n",
    "index=0\n",
    "for col, values in train_data.items():\n",
    "    if index < len(ax): \n",
    "        sns.boxplot(y=col, data=train_data, ax=ax[index],color=\"#3874a4\")\n",
    "        index += 1\n",
    "    else:\n",
    "        break  \n",
    "\"\"\""
   ]
  },
  {
   "cell_type": "code",
   "execution_count": 11,
   "metadata": {},
   "outputs": [
    {
     "data": {
      "image/png": "[encoded data removed]",
      "text/plain": [
       "<Figure size 1000x600 with 2 Axes>"
      ]
     },
     "metadata": {},
     "output_type": "display_data"
    }
   ],
   "source": [
    "\n",
    "sns.heatmap(train_data.corr(), vmin=-0.1, vmax=1,annot=True, cmap=\"Blues\", linewidths=0.1)\n",
    "fig=plt.gcf()\n",
    "fig.set_size_inches(10,6)\n",
    "plt.show()\n"
   ]
  },
  {
   "cell_type": "code",
   "execution_count": 12,
   "metadata": {},
   "outputs": [
    {
     "data": {
      "text/html": [
       "<div>\n",
       "<style scoped>\n",
       "    .dataframe tbody tr th:only-of-type {\n",
       "        vertical-align: middle;\n",
       "    }\n",
       "\n",
       "    .dataframe tbody tr th {\n",
       "        vertical-align: top;\n",
       "    }\n",
       "\n",
       "    .dataframe thead th {\n",
       "        text-align: right;\n",
       "    }\n",
       "</style>\n",
       "<table border=\"1\" class=\"dataframe\">\n",
       "  <thead>\n",
       "    <tr style=\"text-align: right;\">\n",
       "      <th></th>\n",
       "      <th>ph</th>\n",
       "      <th>Hardness</th>\n",
       "      <th>Solids</th>\n",
       "      <th>Chloramines</th>\n",
       "      <th>Sulfate</th>\n",
       "      <th>Conductivity</th>\n",
       "      <th>Organic_carbon</th>\n",
       "      <th>Trihalomethanes</th>\n",
       "      <th>Turbidity</th>\n",
       "      <th>Potability</th>\n",
       "    </tr>\n",
       "  </thead>\n",
       "  <tbody>\n",
       "    <tr>\n",
       "      <th>0</th>\n",
       "      <td>10.331273</td>\n",
       "      <td>166.459779</td>\n",
       "      <td>15824.822709</td>\n",
       "      <td>6.396364</td>\n",
       "      <td>361.156178</td>\n",
       "      <td>376.102104</td>\n",
       "      <td>13.844331</td>\n",
       "      <td>52.057381</td>\n",
       "      <td>2.673441</td>\n",
       "      <td>0</td>\n",
       "    </tr>\n",
       "    <tr>\n",
       "      <th>1</th>\n",
       "      <td>9.616096</td>\n",
       "      <td>221.759818</td>\n",
       "      <td>12538.974026</td>\n",
       "      <td>9.089531</td>\n",
       "      <td>333.219047</td>\n",
       "      <td>441.881005</td>\n",
       "      <td>13.808375</td>\n",
       "      <td>66.668069</td>\n",
       "      <td>2.946644</td>\n",
       "      <td>1</td>\n",
       "    </tr>\n",
       "    <tr>\n",
       "      <th>2</th>\n",
       "      <td>4.126529</td>\n",
       "      <td>125.474884</td>\n",
       "      <td>11215.945902</td>\n",
       "      <td>5.366011</td>\n",
       "      <td>261.444798</td>\n",
       "      <td>445.241457</td>\n",
       "      <td>18.575921</td>\n",
       "      <td>86.433655</td>\n",
       "      <td>4.460201</td>\n",
       "      <td>0</td>\n",
       "    </tr>\n",
       "    <tr>\n",
       "      <th>3</th>\n",
       "      <td>7.039094</td>\n",
       "      <td>192.254162</td>\n",
       "      <td>21762.614146</td>\n",
       "      <td>7.259638</td>\n",
       "      <td>331.649659</td>\n",
       "      <td>397.262826</td>\n",
       "      <td>18.261213</td>\n",
       "      <td>45.981624</td>\n",
       "      <td>4.344805</td>\n",
       "      <td>1</td>\n",
       "    </tr>\n",
       "    <tr>\n",
       "      <th>4</th>\n",
       "      <td>9.008464</td>\n",
       "      <td>148.614002</td>\n",
       "      <td>35021.774097</td>\n",
       "      <td>5.594007</td>\n",
       "      <td>333.219047</td>\n",
       "      <td>387.399771</td>\n",
       "      <td>11.855103</td>\n",
       "      <td>49.480441</td>\n",
       "      <td>3.911015</td>\n",
       "      <td>1</td>\n",
       "    </tr>\n",
       "    <tr>\n",
       "      <th>...</th>\n",
       "      <td>...</td>\n",
       "      <td>...</td>\n",
       "      <td>...</td>\n",
       "      <td>...</td>\n",
       "      <td>...</td>\n",
       "      <td>...</td>\n",
       "      <td>...</td>\n",
       "      <td>...</td>\n",
       "      <td>...</td>\n",
       "      <td>...</td>\n",
       "    </tr>\n",
       "    <tr>\n",
       "      <th>2615</th>\n",
       "      <td>7.868147</td>\n",
       "      <td>199.035973</td>\n",
       "      <td>20434.105735</td>\n",
       "      <td>6.210994</td>\n",
       "      <td>337.916091</td>\n",
       "      <td>549.414983</td>\n",
       "      <td>16.501578</td>\n",
       "      <td>66.668069</td>\n",
       "      <td>4.315898</td>\n",
       "      <td>0</td>\n",
       "    </tr>\n",
       "    <tr>\n",
       "      <th>2616</th>\n",
       "      <td>8.016279</td>\n",
       "      <td>211.029304</td>\n",
       "      <td>14034.485799</td>\n",
       "      <td>9.797000</td>\n",
       "      <td>389.338796</td>\n",
       "      <td>491.079082</td>\n",
       "      <td>14.512991</td>\n",
       "      <td>35.565966</td>\n",
       "      <td>4.308223</td>\n",
       "      <td>1</td>\n",
       "    </tr>\n",
       "    <tr>\n",
       "      <th>2617</th>\n",
       "      <td>7.795958</td>\n",
       "      <td>239.278255</td>\n",
       "      <td>27849.142088</td>\n",
       "      <td>6.475994</td>\n",
       "      <td>356.170702</td>\n",
       "      <td>484.104784</td>\n",
       "      <td>18.692248</td>\n",
       "      <td>50.128415</td>\n",
       "      <td>4.251876</td>\n",
       "      <td>1</td>\n",
       "    </tr>\n",
       "    <tr>\n",
       "      <th>2618</th>\n",
       "      <td>7.054267</td>\n",
       "      <td>212.429124</td>\n",
       "      <td>7450.074375</td>\n",
       "      <td>8.727110</td>\n",
       "      <td>333.219047</td>\n",
       "      <td>396.052782</td>\n",
       "      <td>11.383954</td>\n",
       "      <td>75.219338</td>\n",
       "      <td>4.780616</td>\n",
       "      <td>0</td>\n",
       "    </tr>\n",
       "    <tr>\n",
       "      <th>2619</th>\n",
       "      <td>6.314077</td>\n",
       "      <td>124.847992</td>\n",
       "      <td>31114.635653</td>\n",
       "      <td>5.713940</td>\n",
       "      <td>333.219047</td>\n",
       "      <td>396.672976</td>\n",
       "      <td>18.423226</td>\n",
       "      <td>73.101997</td>\n",
       "      <td>4.363866</td>\n",
       "      <td>0</td>\n",
       "    </tr>\n",
       "  </tbody>\n",
       "</table>\n",
       "<p>2549 rows × 10 columns</p>\n",
       "</div>"
      ],
      "text/plain": [
       "             ph    Hardness        Solids  Chloramines     Sulfate  \\\n",
       "0     10.331273  166.459779  15824.822709     6.396364  361.156178   \n",
       "1      9.616096  221.759818  12538.974026     9.089531  333.219047   \n",
       "2      4.126529  125.474884  11215.945902     5.366011  261.444798   \n",
       "3      7.039094  192.254162  21762.614146     7.259638  331.649659   \n",
       "4      9.008464  148.614002  35021.774097     5.594007  333.219047   \n",
       "...         ...         ...           ...          ...         ...   \n",
       "2615   7.868147  199.035973  20434.105735     6.210994  337.916091   \n",
       "2616   8.016279  211.029304  14034.485799     9.797000  389.338796   \n",
       "2617   7.795958  239.278255  27849.142088     6.475994  356.170702   \n",
       "2618   7.054267  212.429124   7450.074375     8.727110  333.219047   \n",
       "2619   6.314077  124.847992  31114.635653     5.713940  333.219047   \n",
       "\n",
       "      Conductivity  Organic_carbon  Trihalomethanes  Turbidity  Potability  \n",
       "0       376.102104       13.844331        52.057381   2.673441           0  \n",
       "1       441.881005       13.808375        66.668069   2.946644           1  \n",
       "2       445.241457       18.575921        86.433655   4.460201           0  \n",
       "3       397.262826       18.261213        45.981624   4.344805           1  \n",
       "4       387.399771       11.855103        49.480441   3.911015           1  \n",
       "...            ...             ...              ...        ...         ...  \n",
       "2615    549.414983       16.501578        66.668069   4.315898           0  \n",
       "2616    491.079082       14.512991        35.565966   4.308223           1  \n",
       "2617    484.104784       18.692248        50.128415   4.251876           1  \n",
       "2618    396.052782       11.383954        75.219338   4.780616           0  \n",
       "2619    396.672976       18.423226        73.101997   4.363866           0  \n",
       "\n",
       "[2549 rows x 10 columns]"
      ]
     },
     "execution_count": 12,
     "metadata": {},
     "output_type": "execute_result"
    }
   ],
   "source": [
    "\n",
    "features_with_outliers = ['Solids','Chloramines','Trihalomethanes']\n",
    "\n",
    "#aplicar método IQR (Intervalo Interquartil)\n",
    "for feature in features_with_outliers:\n",
    "    Q1 = train_data[feature].quantile(0.25)\n",
    "    Q3 = train_data[feature].quantile(0.75)\n",
    "    IQR = Q3 - Q1\n",
    "    lower_bound = Q1 - 1.7 * IQR\n",
    "    upper_bound = Q3 + 1.7 * IQR\n",
    "    #identificar outliers\n",
    "    outliers = train_data[(train_data[feature] < lower_bound) | (train_data[feature] > upper_bound)]\n",
    "    #Remover outliers do train_data DataFrame\n",
    "    train_data = train_data.drop(outliers.index)  \n",
    "\n",
    "train_data\n"
   ]
  },
  {
   "cell_type": "code",
   "execution_count": 13,
   "metadata": {},
   "outputs": [],
   "source": [
    "# Apply SMOTE for oversampling the minority class\n",
    "oversample = SMOTE(sampling_strategy='auto',random_state=1234)\n",
    "X_train, y_train = oversample.fit_resample(train_data.drop(\"Potability\", axis=1), train_data[\"Potability\"])"
   ]
  },
  {
   "cell_type": "code",
   "execution_count": 14,
   "metadata": {},
   "outputs": [],
   "source": [
    "X_test, y_test = test_data.drop(\"ID\", axis=1), test_data[\"ID\"]"
   ]
  },
  {
   "cell_type": "code",
   "execution_count": 15,
   "metadata": {},
   "outputs": [
    {
     "data": {
      "text/plain": [
       "'\\nvalue_counts = y_train.value_counts()\\n\\nplt.figure(figsize=(6, 6))\\ncolors = [\"salmon\", \"lightgreen\"]\\n\\nsns.set_palette(colors)\\nsns.set_style(\"whitegrid\")\\nplt.pie(value_counts, labels=[\\'Not Potable\\', \\'Potable\\'], autopct=lambda p: f\\'{int(p * sum(value_counts) / 100)}\\n{p:.1f}%\\', startangle=90, pctdistance=0.85)\\nplt.title(\\'Potability\\')\\n\\nplt.show()\\n'"
      ]
     },
     "execution_count": 15,
     "metadata": {},
     "output_type": "execute_result"
    }
   ],
   "source": [
    "\"\"\"\n",
    "value_counts = y_train.value_counts()\n",
    "\n",
    "plt.figure(figsize=(6, 6))\n",
    "colors = [\"salmon\", \"lightgreen\"]\n",
    "\n",
    "sns.set_palette(colors)\n",
    "sns.set_style(\"whitegrid\")\n",
    "plt.pie(value_counts, labels=['Not Potable', 'Potable'], autopct=lambda p: f'{int(p * sum(value_counts) / 100)}\\n{p:.1f}%', startangle=90, pctdistance=0.85)\n",
    "plt.title('Potability')\n",
    "\n",
    "plt.show()\n",
    "\"\"\""
   ]
  },
  {
   "cell_type": "code",
   "execution_count": 16,
   "metadata": {},
   "outputs": [],
   "source": [
    "standardizer = StandardScaler()\n",
    "X_train=standardizer.fit_transform(X_train)\n",
    "X_test = standardizer.transform(X_test)\n"
   ]
  },
  {
   "cell_type": "code",
   "execution_count": 17,
   "metadata": {},
   "outputs": [
    {
     "data": {
      "text/plain": [
       "'\\nX_train_df = pd.DataFrame(X_train)\\nX_train_df.columns = [\\'ph\\', \\'Hardness\\', \\'Solids\\',\\t\\'Chloramines\\',\\t\\'Sulfate\\',\\t\\'Conductivity\\',\\t\\'Organic_carbon\\',\\t\\'Trihalomethanes\\',\\t\\'Turbidity\\']\\n\\nfig, ax = plt.subplots(ncols=3, nrows=4, figsize=(12, 25))\\nax = ax.flatten()\\n\\nfor index, col in enumerate(X_train_df.columns):\\n    if index < len(ax):\\n        sns.boxplot(y=col, data=X_train_df, ax=ax[index], color=\"#3874a4\")\\n    else:\\n        break\\n'"
      ]
     },
     "execution_count": 17,
     "metadata": {},
     "output_type": "execute_result"
    }
   ],
   "source": [
    "\"\"\"\n",
    "X_train_df = pd.DataFrame(X_train)\n",
    "X_train_df.columns = ['ph', 'Hardness', 'Solids',\t'Chloramines',\t'Sulfate',\t'Conductivity',\t'Organic_carbon',\t'Trihalomethanes',\t'Turbidity']\n",
    "\n",
    "fig, ax = plt.subplots(ncols=3, nrows=4, figsize=(12, 25))\n",
    "ax = ax.flatten()\n",
    "\n",
    "for index, col in enumerate(X_train_df.columns):\n",
    "    if index < len(ax):\n",
    "        sns.boxplot(y=col, data=X_train_df, ax=ax[index], color=\"#3874a4\")\n",
    "    else:\n",
    "        break\n",
    "\"\"\""
   ]
  },
  {
   "cell_type": "code",
   "execution_count": 18,
   "metadata": {},
   "outputs": [
    {
     "data": {
      "text/plain": [
       "'\\nX_test_df = pd.DataFrame(X_test)\\nX_test_df.columns = [\\'ph\\',\\'Hardness\\',\\'Solids\\',\\'Chloramines\\',\\'Sulfate\\',\\'Conductivity\\',\\'Organic_carbon\\',\\'Trihalomethanes\\',\\'Turbidity\\']\\n\\nfig, ax = plt.subplots(ncols=3, nrows=4, figsize=(12, 25))\\nax = ax.flatten()\\n\\nfor index, col in enumerate(X_test_df.columns):\\n    if index < len(ax):\\n        sns.boxplot(y=col, data=X_test_df, ax=ax[index], color=\"#3874a4\")\\n    else:\\n        break\\n'"
      ]
     },
     "execution_count": 18,
     "metadata": {},
     "output_type": "execute_result"
    }
   ],
   "source": [
    "\"\"\"\n",
    "X_test_df = pd.DataFrame(X_test)\n",
    "X_test_df.columns = ['ph','Hardness','Solids','Chloramines','Sulfate','Conductivity','Organic_carbon','Trihalomethanes','Turbidity']\n",
    "\n",
    "fig, ax = plt.subplots(ncols=3, nrows=4, figsize=(12, 25))\n",
    "ax = ax.flatten()\n",
    "\n",
    "for index, col in enumerate(X_test_df.columns):\n",
    "    if index < len(ax):\n",
    "        sns.boxplot(y=col, data=X_test_df, ax=ax[index], color=\"#3874a4\")\n",
    "    else:\n",
    "        break\n",
    "\"\"\"        "
   ]
  },
  {
   "cell_type": "markdown",
   "metadata": {},
   "source": [
    "# Definir o Método de Validação Cruzada\n",
    "O modelo é treinado e testado em 10 partições"
   ]
  },
  {
   "cell_type": "code",
   "execution_count": 19,
   "metadata": {},
   "outputs": [],
   "source": [
    "splitter = StratifiedKFold(n_splits=10, shuffle=True, random_state=1234) "
   ]
  },
  {
   "cell_type": "markdown",
   "metadata": {},
   "source": [
    "# Implementação dos Algoritmos de Machine Learning"
   ]
  },
  {
   "cell_type": "code",
   "execution_count": 20,
   "metadata": {},
   "outputs": [
    {
     "data": {
      "text/plain": [
       "\"\\nmodel = [DecisionTreeClassifier(), SVC(),\\n         MLPClassifier(), GaussianNB(), RandomForestClassifier(), XGBClassifier(), KNeighborsClassifier()]\\nresults = []\\nfor m in model:\\n    scores = cross_validate(m, X_train, y_train, scoring=METRICS, cv=splitter)\\n    dt_scores = pd.DataFrame(scores)\\n    model_name = m.__class__.__name__\\n    mean_scores = dt_scores.mean().to_dict()\\n    mean_scores['model'] = model_name\\n    results.append(mean_scores)\\n\\nmodel_df = pd.DataFrame(results)\\nmodel_df\\n\\n\""
      ]
     },
     "execution_count": 20,
     "metadata": {},
     "output_type": "execute_result"
    }
   ],
   "source": [
    "\"\"\"\n",
    "model = [DecisionTreeClassifier(), SVC(),\n",
    "         MLPClassifier(), GaussianNB(), RandomForestClassifier(), XGBClassifier(), KNeighborsClassifier()]\n",
    "results = []\n",
    "for m in model:\n",
    "    scores = cross_validate(m, X_train, y_train, scoring=METRICS, cv=splitter)\n",
    "    dt_scores = pd.DataFrame(scores)\n",
    "    model_name = m.__class__.__name__\n",
    "    mean_scores = dt_scores.mean().to_dict()\n",
    "    mean_scores['model'] = model_name\n",
    "    results.append(mean_scores)\n",
    "\n",
    "model_df = pd.DataFrame(results)\n",
    "model_df\n",
    "\n",
    "\"\"\""
   ]
  },
  {
   "cell_type": "markdown",
   "metadata": {},
   "source": [
    "### Árvores de Decisão"
   ]
  },
  {
   "cell_type": "code",
   "execution_count": 21,
   "metadata": {},
   "outputs": [
    {
     "data": {
      "text/plain": [
       "'\\nscores = cross_validate(dt, X_train, y_train, cv=splitter, scoring=METRICS)\\ndt_scores = pd.DataFrame(scores)\\npd.DataFrame(dt_scores.mean()).T\\n'"
      ]
     },
     "execution_count": 21,
     "metadata": {},
     "output_type": "execute_result"
    }
   ],
   "source": [
    "\n",
    "dt = DecisionTreeClassifier(max_depth=18,random_state=1234)\n",
    "\"\"\"\n",
    "scores = cross_validate(dt, X_train, y_train, cv=splitter, scoring=METRICS)\n",
    "dt_scores = pd.DataFrame(scores)\n",
    "pd.DataFrame(dt_scores.mean()).T\n",
    "\"\"\"\n"
   ]
  },
  {
   "cell_type": "markdown",
   "metadata": {},
   "source": [
    "### Redes Neuronais"
   ]
  },
  {
   "cell_type": "code",
   "execution_count": 22,
   "metadata": {},
   "outputs": [
    {
     "data": {
      "text/plain": [
       "'\\nscores_nn = cross_validate(nn, X_train, y_train, cv=splitter, scoring=METRICS)\\nnn_scores = pd.DataFrame(scores_nn)\\npd.DataFrame(nn_scores.mean()).T\\n'"
      ]
     },
     "execution_count": 22,
     "metadata": {},
     "output_type": "execute_result"
    }
   ],
   "source": [
    "\n",
    "\n",
    "nn = MLPClassifier(hidden_layer_sizes=(150,150),max_iter=40,random_state=1234)\n",
    "\n",
    "\"\"\"\n",
    "scores_nn = cross_validate(nn, X_train, y_train, cv=splitter, scoring=METRICS)\n",
    "nn_scores = pd.DataFrame(scores_nn)\n",
    "pd.DataFrame(nn_scores.mean()).T\n",
    "\"\"\"\n"
   ]
  },
  {
   "cell_type": "markdown",
   "metadata": {},
   "source": [
    "### Naive Bayes"
   ]
  },
  {
   "cell_type": "code",
   "execution_count": 23,
   "metadata": {},
   "outputs": [
    {
     "data": {
      "text/plain": [
       "'\\nscores_nb = cross_validate(nb, X_train, y_train, cv=splitter, scoring=METRICS)\\nnb_scores = pd.DataFrame(scores_nb)\\npd.DataFrame(nb_scores.mean()).T\\n'"
      ]
     },
     "execution_count": 23,
     "metadata": {},
     "output_type": "execute_result"
    }
   ],
   "source": [
    "\n",
    "nb = GaussianNB()\n",
    "\"\"\"\n",
    "scores_nb = cross_validate(nb, X_train, y_train, cv=splitter, scoring=METRICS)\n",
    "nb_scores = pd.DataFrame(scores_nb)\n",
    "pd.DataFrame(nb_scores.mean()).T\n",
    "\"\"\""
   ]
  },
  {
   "cell_type": "markdown",
   "metadata": {},
   "source": [
    "### Support Vector Machine"
   ]
  },
  {
   "cell_type": "code",
   "execution_count": 24,
   "metadata": {},
   "outputs": [
    {
     "data": {
      "text/plain": [
       "'\\nscores_svm = cross_validate(svm, X_train, y_train, cv=splitter, scoring=METRICS)\\nsvm_scores = pd.DataFrame(scores_svm)\\npd.DataFrame(svm_scores.mean()).T\\n\\n'"
      ]
     },
     "execution_count": 24,
     "metadata": {},
     "output_type": "execute_result"
    }
   ],
   "source": [
    "\n",
    "svm = SVC(probability=True,C=16,gamma=0.6,random_state=1234) \n",
    "\"\"\"\n",
    "scores_svm = cross_validate(svm, X_train, y_train, cv=splitter, scoring=METRICS)\n",
    "svm_scores = pd.DataFrame(scores_svm)\n",
    "pd.DataFrame(svm_scores.mean()).T\n",
    "\n",
    "\"\"\""
   ]
  },
  {
   "cell_type": "markdown",
   "metadata": {},
   "source": [
    "### Random Forest Classifier"
   ]
  },
  {
   "cell_type": "code",
   "execution_count": 25,
   "metadata": {},
   "outputs": [
    {
     "data": {
      "text/plain": [
       "'\\nscores_rf = cross_validate(rf, X_train, y_train, cv=splitter, scoring=METRICS)\\nrf_scores = pd.DataFrame(scores_rf)\\npd.DataFrame(rf_scores.mean()).T\\n'"
      ]
     },
     "execution_count": 25,
     "metadata": {},
     "output_type": "execute_result"
    }
   ],
   "source": [
    "\n",
    "rf = RandomForestClassifier(n_estimators=400,max_depth=20,min_samples_leaf=1,min_samples_split=2,n_jobs=-1,random_state=1234)\n",
    "\n",
    "\"\"\"\n",
    "scores_rf = cross_validate(rf, X_train, y_train, cv=splitter, scoring=METRICS)\n",
    "rf_scores = pd.DataFrame(scores_rf)\n",
    "pd.DataFrame(rf_scores.mean()).T\n",
    "\"\"\"\n"
   ]
  },
  {
   "cell_type": "markdown",
   "metadata": {},
   "source": [
    "### XGBClassifier"
   ]
  },
  {
   "cell_type": "code",
   "execution_count": 26,
   "metadata": {},
   "outputs": [
    {
     "data": {
      "text/plain": [
       "'\\nscores_xgb = cross_validate(xgb, X_train, y_train, cv=splitter, scoring=METRICS)\\nxgb_scores = pd.DataFrame(scores_xgb)\\npd.DataFrame(xgb_scores.mean()).T\\n'"
      ]
     },
     "execution_count": 26,
     "metadata": {},
     "output_type": "execute_result"
    }
   ],
   "source": [
    "\n",
    "xgb = XGBClassifier(n_estimators=500,max_depth=20,n_jobs=-1,random_state=1234)\n",
    "\"\"\"\n",
    "scores_xgb = cross_validate(xgb, X_train, y_train, cv=splitter, scoring=METRICS)\n",
    "xgb_scores = pd.DataFrame(scores_xgb)\n",
    "pd.DataFrame(xgb_scores.mean()).T\n",
    "\"\"\"\n",
    "\n"
   ]
  },
  {
   "cell_type": "code",
   "execution_count": 27,
   "metadata": {},
   "outputs": [
    {
     "data": {
      "text/plain": [
       "'\\nscores_knn = cross_validate(knn, X_train, y_train, cv=splitter, scoring=METRICS)\\nknn_scores = pd.DataFrame(scores_knn)\\npd.DataFrame(knn_scores.mean()).T\\n'"
      ]
     },
     "execution_count": 27,
     "metadata": {},
     "output_type": "execute_result"
    }
   ],
   "source": [
    "knn = KNeighborsClassifier(n_jobs=-1)\n",
    "\"\"\"\n",
    "scores_knn = cross_validate(knn, X_train, y_train, cv=splitter, scoring=METRICS)\n",
    "knn_scores = pd.DataFrame(scores_knn)\n",
    "pd.DataFrame(knn_scores.mean()).T\n",
    "\"\"\""
   ]
  },
  {
   "cell_type": "code",
   "execution_count": 28,
   "metadata": {},
   "outputs": [
    {
     "data": {
      "text/plain": [
       "'\\nscores_ada = cross_validate(ada, X_train, y_train, cv=splitter, scoring=METRICS)\\nada_scores = pd.DataFrame(scores_ada)\\npd.DataFrame(ada_scores.mean()).T\\n'"
      ]
     },
     "execution_count": 28,
     "metadata": {},
     "output_type": "execute_result"
    }
   ],
   "source": [
    "ada=AdaBoostClassifier(estimator=rf,random_state=1234)\n",
    "\"\"\"\n",
    "scores_ada = cross_validate(ada, X_train, y_train, cv=splitter, scoring=METRICS)\n",
    "ada_scores = pd.DataFrame(scores_ada)\n",
    "pd.DataFrame(ada_scores.mean()).T\n",
    "\"\"\"\n",
    "\n"
   ]
  },
  {
   "cell_type": "code",
   "execution_count": 29,
   "metadata": {},
   "outputs": [
    {
     "data": {
      "text/plain": [
       "'\\nscores_stack = cross_validate(stacking_clf, X_train, y_train, cv=splitter, scoring=METRICS)\\nstack_scores = pd.DataFrame(scores_stack)\\npd.DataFrame(stack_scores.mean()).T\\n'"
      ]
     },
     "execution_count": 29,
     "metadata": {},
     "output_type": "execute_result"
    }
   ],
   "source": [
    "stacking_clf = StackingClassifier(estimators=[('rf', rf),('svm',svm),('xgb',xgb),('dt',dt),('nn',nn),('ada',ada),('knn',knn)], final_estimator=LogisticRegression(n_jobs=-1),n_jobs=-1)\n",
    "\"\"\"\n",
    "scores_stack = cross_validate(stacking_clf, X_train, y_train, cv=splitter, scoring=METRICS)\n",
    "stack_scores = pd.DataFrame(scores_stack)\n",
    "pd.DataFrame(stack_scores.mean()).T\n",
    "\"\"\"\n"
   ]
  },
  {
   "cell_type": "code",
   "execution_count": 30,
   "metadata": {},
   "outputs": [
    {
     "data": {
      "text/html": [
       "<style>#sk-container-id-1 {color: black;}#sk-container-id-1 pre{padding: 0;}#sk-container-id-1 div.sk-toggleable {background-color: white;}#sk-container-id-1 label.sk-toggleable__label {cursor: pointer;display: block;width: 100%;margin-bottom: 0;padding: 0.3em;box-sizing: border-box;text-align: center;}#sk-container-id-1 label.sk-toggleable__label-arrow:before {content: \"▸\";float: left;margin-right: 0.25em;color: #696969;}#sk-container-id-1 label.sk-toggleable__label-arrow:hover:before {color: black;}#sk-container-id-1 div.sk-estimator:hover label.sk-toggleable__label-arrow:before {color: black;}#sk-container-id-1 div.sk-toggleable__content {max-height: 0;max-width: 0;overflow: hidden;text-align: left;background-color: #f0f8ff;}#sk-container-id-1 div.sk-toggleable__content pre {margin: 0.2em;color: black;border-radius: 0.25em;background-color: #f0f8ff;}#sk-container-id-1 input.sk-toggleable__control:checked~div.sk-toggleable__content {max-height: 200px;max-width: 100%;overflow: auto;}#sk-container-id-1 input.sk-toggleable__control:checked~label.sk-toggleable__label-arrow:before {content: \"▾\";}#sk-container-id-1 div.sk-estimator input.sk-toggleable__control:checked~label.sk-toggleable__label {background-color: #d4ebff;}#sk-container-id-1 div.sk-label input.sk-toggleable__control:checked~label.sk-toggleable__label {background-color: #d4ebff;}#sk-container-id-1 input.sk-hidden--visually {border: 0;clip: rect(1px 1px 1px 1px);clip: rect(1px, 1px, 1px, 1px);height: 1px;margin: -1px;overflow: hidden;padding: 0;position: absolute;width: 1px;}#sk-container-id-1 div.sk-estimator {font-family: monospace;background-color: #f0f8ff;border: 1px dotted black;border-radius: 0.25em;box-sizing: border-box;margin-bottom: 0.5em;}#sk-container-id-1 div.sk-estimator:hover {background-color: #d4ebff;}#sk-container-id-1 div.sk-parallel-item::after {content: \"\";width: 100%;border-bottom: 1px solid gray;flex-grow: 1;}#sk-container-id-1 div.sk-label:hover label.sk-toggleable__label {background-color: #d4ebff;}#sk-container-id-1 div.sk-serial::before {content: \"\";position: absolute;border-left: 1px solid gray;box-sizing: border-box;top: 0;bottom: 0;left: 50%;z-index: 0;}#sk-container-id-1 div.sk-serial {display: flex;flex-direction: column;align-items: center;background-color: white;padding-right: 0.2em;padding-left: 0.2em;position: relative;}#sk-container-id-1 div.sk-item {position: relative;z-index: 1;}#sk-container-id-1 div.sk-parallel {display: flex;align-items: stretch;justify-content: center;background-color: white;position: relative;}#sk-container-id-1 div.sk-item::before, #sk-container-id-1 div.sk-parallel-item::before {content: \"\";position: absolute;border-left: 1px solid gray;box-sizing: border-box;top: 0;bottom: 0;left: 50%;z-index: -1;}#sk-container-id-1 div.sk-parallel-item {display: flex;flex-direction: column;z-index: 1;position: relative;background-color: white;}#sk-container-id-1 div.sk-parallel-item:first-child::after {align-self: flex-end;width: 50%;}#sk-container-id-1 div.sk-parallel-item:last-child::after {align-self: flex-start;width: 50%;}#sk-container-id-1 div.sk-parallel-item:only-child::after {width: 0;}#sk-container-id-1 div.sk-dashed-wrapped {border: 1px dashed gray;margin: 0 0.4em 0.5em 0.4em;box-sizing: border-box;padding-bottom: 0.4em;background-color: white;}#sk-container-id-1 div.sk-label label {font-family: monospace;font-weight: bold;display: inline-block;line-height: 1.2em;}#sk-container-id-1 div.sk-label-container {text-align: center;}#sk-container-id-1 div.sk-container {/* jupyter's `normalize.less` sets `[hidden] { display: none; }` but bootstrap.min.css set `[hidden] { display: none !important; }` so we also need the `!important` here to be able to override the default hidden behavior on the sphinx rendered scikit-learn.org. See: https://github.com/scikit-learn/scikit-learn/issues/21755 */display: inline-block !important;position: relative;}#sk-container-id-1 div.sk-text-repr-fallback {display: none;}</style><div id=\"sk-container-id-1\" class=\"sk-top-container\"><div class=\"sk-text-repr-fallback\"><pre>StackingClassifier(estimators=[(&#x27;rf&#x27;,\n",
       "                                RandomForestClassifier(max_depth=20,\n",
       "                                                       n_estimators=400,\n",
       "                                                       n_jobs=-1,\n",
       "                                                       random_state=1234)),\n",
       "                               (&#x27;svm&#x27;,\n",
       "                                SVC(C=16, gamma=0.6, probability=True,\n",
       "                                    random_state=1234)),\n",
       "                               (&#x27;xgb&#x27;,\n",
       "                                XGBClassifier(base_score=None, booster=None,\n",
       "                                              callbacks=None,\n",
       "                                              colsample_bylevel=None,\n",
       "                                              colsample_bynode=None,\n",
       "                                              colsample_bytree=None,\n",
       "                                              device=None,\n",
       "                                              early_stopping_rounds=N...\n",
       "                                DecisionTreeClassifier(max_depth=18,\n",
       "                                                       random_state=1234)),\n",
       "                               (&#x27;nn&#x27;,\n",
       "                                MLPClassifier(hidden_layer_sizes=(150, 150),\n",
       "                                              max_iter=40, random_state=1234)),\n",
       "                               (&#x27;ada&#x27;,\n",
       "                                AdaBoostClassifier(estimator=RandomForestClassifier(max_depth=20,\n",
       "                                                                                    n_estimators=400,\n",
       "                                                                                    n_jobs=-1,\n",
       "                                                                                    random_state=1234),\n",
       "                                                   random_state=1234)),\n",
       "                               (&#x27;knn&#x27;, KNeighborsClassifier(n_jobs=-1))],\n",
       "                   final_estimator=LogisticRegression(n_jobs=-1), n_jobs=-1)</pre><b>In a Jupyter environment, please rerun this cell to show the HTML representation or trust the notebook. <br />On GitHub, the HTML representation is unable to render, please try loading this page with nbviewer.org.</b></div><div class=\"sk-container\" hidden><div class=\"sk-item sk-dashed-wrapped\"><div class=\"sk-label-container\"><div class=\"sk-label sk-toggleable\"><input class=\"sk-toggleable__control sk-hidden--visually\" id=\"sk-estimator-id-1\" type=\"checkbox\" ><label for=\"sk-estimator-id-1\" class=\"sk-toggleable__label sk-toggleable__label-arrow\">StackingClassifier</label><div class=\"sk-toggleable__content\"><pre>StackingClassifier(estimators=[(&#x27;rf&#x27;,\n",
       "                                RandomForestClassifier(max_depth=20,\n",
       "                                                       n_estimators=400,\n",
       "                                                       n_jobs=-1,\n",
       "                                                       random_state=1234)),\n",
       "                               (&#x27;svm&#x27;,\n",
       "                                SVC(C=16, gamma=0.6, probability=True,\n",
       "                                    random_state=1234)),\n",
       "                               (&#x27;xgb&#x27;,\n",
       "                                XGBClassifier(base_score=None, booster=None,\n",
       "                                              callbacks=None,\n",
       "                                              colsample_bylevel=None,\n",
       "                                              colsample_bynode=None,\n",
       "                                              colsample_bytree=None,\n",
       "                                              device=None,\n",
       "                                              early_stopping_rounds=N...\n",
       "                                DecisionTreeClassifier(max_depth=18,\n",
       "                                                       random_state=1234)),\n",
       "                               (&#x27;nn&#x27;,\n",
       "                                MLPClassifier(hidden_layer_sizes=(150, 150),\n",
       "                                              max_iter=40, random_state=1234)),\n",
       "                               (&#x27;ada&#x27;,\n",
       "                                AdaBoostClassifier(estimator=RandomForestClassifier(max_depth=20,\n",
       "                                                                                    n_estimators=400,\n",
       "                                                                                    n_jobs=-1,\n",
       "                                                                                    random_state=1234),\n",
       "                                                   random_state=1234)),\n",
       "                               (&#x27;knn&#x27;, KNeighborsClassifier(n_jobs=-1))],\n",
       "                   final_estimator=LogisticRegression(n_jobs=-1), n_jobs=-1)</pre></div></div></div><div class=\"sk-serial\"><div class=\"sk-item\"><div class=\"sk-parallel\"><div class=\"sk-parallel-item\"><div class=\"sk-item\"><div class=\"sk-label-container\"><div class=\"sk-label sk-toggleable\"><label>rf</label></div></div><div class=\"sk-serial\"><div class=\"sk-item\"><div class=\"sk-estimator sk-toggleable\"><input class=\"sk-toggleable__control sk-hidden--visually\" id=\"sk-estimator-id-2\" type=\"checkbox\" ><label for=\"sk-estimator-id-2\" class=\"sk-toggleable__label sk-toggleable__label-arrow\">RandomForestClassifier</label><div class=\"sk-toggleable__content\"><pre>RandomForestClassifier(max_depth=20, n_estimators=400, n_jobs=-1,\n",
       "                       random_state=1234)</pre></div></div></div></div></div></div><div class=\"sk-parallel-item\"><div class=\"sk-item\"><div class=\"sk-label-container\"><div class=\"sk-label sk-toggleable\"><label>svm</label></div></div><div class=\"sk-serial\"><div class=\"sk-item\"><div class=\"sk-estimator sk-toggleable\"><input class=\"sk-toggleable__control sk-hidden--visually\" id=\"sk-estimator-id-3\" type=\"checkbox\" ><label for=\"sk-estimator-id-3\" class=\"sk-toggleable__label sk-toggleable__label-arrow\">SVC</label><div class=\"sk-toggleable__content\"><pre>SVC(C=16, gamma=0.6, probability=True, random_state=1234)</pre></div></div></div></div></div></div><div class=\"sk-parallel-item\"><div class=\"sk-item\"><div class=\"sk-label-container\"><div class=\"sk-label sk-toggleable\"><label>xgb</label></div></div><div class=\"sk-serial\"><div class=\"sk-item\"><div class=\"sk-estimator sk-toggleable\"><input class=\"sk-toggleable__control sk-hidden--visually\" id=\"sk-estimator-id-4\" type=\"checkbox\" ><label for=\"sk-estimator-id-4\" class=\"sk-toggleable__label sk-toggleable__label-arrow\">XGBClassifier</label><div class=\"sk-toggleable__content\"><pre>XGBClassifier(base_score=None, booster=None, callbacks=None,\n",
       "              colsample_bylevel=None, colsample_bynode=None,\n",
       "              colsample_bytree=None, device=None, early_stopping_rounds=None,\n",
       "              enable_categorical=False, eval_metric=None, feature_types=None,\n",
       "              gamma=None, grow_policy=None, importance_type=None,\n",
       "              interaction_constraints=None, learning_rate=None, max_bin=None,\n",
       "              max_cat_threshold=None, max_cat_to_onehot=None,\n",
       "              max_delta_step=None, max_depth=20, max_leaves=None,\n",
       "              min_child_weight=None, missing=nan, monotone_constraints=None,\n",
       "              multi_strategy=None, n_estimators=500, n_jobs=-1,\n",
       "              num_parallel_tree=None, random_state=1234, ...)</pre></div></div></div></div></div></div><div class=\"sk-parallel-item\"><div class=\"sk-item\"><div class=\"sk-label-container\"><div class=\"sk-label sk-toggleable\"><label>dt</label></div></div><div class=\"sk-serial\"><div class=\"sk-item\"><div class=\"sk-estimator sk-toggleable\"><input class=\"sk-toggleable__control sk-hidden--visually\" id=\"sk-estimator-id-5\" type=\"checkbox\" ><label for=\"sk-estimator-id-5\" class=\"sk-toggleable__label sk-toggleable__label-arrow\">DecisionTreeClassifier</label><div class=\"sk-toggleable__content\"><pre>DecisionTreeClassifier(max_depth=18, random_state=1234)</pre></div></div></div></div></div></div><div class=\"sk-parallel-item\"><div class=\"sk-item\"><div class=\"sk-label-container\"><div class=\"sk-label sk-toggleable\"><label>nn</label></div></div><div class=\"sk-serial\"><div class=\"sk-item\"><div class=\"sk-estimator sk-toggleable\"><input class=\"sk-toggleable__control sk-hidden--visually\" id=\"sk-estimator-id-6\" type=\"checkbox\" ><label for=\"sk-estimator-id-6\" class=\"sk-toggleable__label sk-toggleable__label-arrow\">MLPClassifier</label><div class=\"sk-toggleable__content\"><pre>MLPClassifier(hidden_layer_sizes=(150, 150), max_iter=40, random_state=1234)</pre></div></div></div></div></div></div><div class=\"sk-parallel-item\"><div class=\"sk-item\"><div class=\"sk-label-container\"><div class=\"sk-label sk-toggleable\"><label>ada</label></div></div><div class=\"sk-serial\"><div class=\"sk-item sk-dashed-wrapped\"><div class=\"sk-parallel\"><div class=\"sk-parallel-item\"><div class=\"sk-item\"><div class=\"sk-label-container\"><div class=\"sk-label sk-toggleable\"><input class=\"sk-toggleable__control sk-hidden--visually\" id=\"sk-estimator-id-7\" type=\"checkbox\" ><label for=\"sk-estimator-id-7\" class=\"sk-toggleable__label sk-toggleable__label-arrow\">estimator: RandomForestClassifier</label><div class=\"sk-toggleable__content\"><pre>RandomForestClassifier(max_depth=20, n_estimators=400, n_jobs=-1,\n",
       "                       random_state=1234)</pre></div></div></div><div class=\"sk-serial\"><div class=\"sk-item\"><div class=\"sk-estimator sk-toggleable\"><input class=\"sk-toggleable__control sk-hidden--visually\" id=\"sk-estimator-id-8\" type=\"checkbox\" ><label for=\"sk-estimator-id-8\" class=\"sk-toggleable__label sk-toggleable__label-arrow\">RandomForestClassifier</label><div class=\"sk-toggleable__content\"><pre>RandomForestClassifier(max_depth=20, n_estimators=400, n_jobs=-1,\n",
       "                       random_state=1234)</pre></div></div></div></div></div></div></div></div></div></div></div><div class=\"sk-parallel-item\"><div class=\"sk-item\"><div class=\"sk-label-container\"><div class=\"sk-label sk-toggleable\"><label>knn</label></div></div><div class=\"sk-serial\"><div class=\"sk-item\"><div class=\"sk-estimator sk-toggleable\"><input class=\"sk-toggleable__control sk-hidden--visually\" id=\"sk-estimator-id-9\" type=\"checkbox\" ><label for=\"sk-estimator-id-9\" class=\"sk-toggleable__label sk-toggleable__label-arrow\">KNeighborsClassifier</label><div class=\"sk-toggleable__content\"><pre>KNeighborsClassifier(n_jobs=-1)</pre></div></div></div></div></div></div></div></div><div class=\"sk-item\"><div class=\"sk-parallel\"><div class=\"sk-parallel-item\"><div class=\"sk-item\"><div class=\"sk-label-container\"><div class=\"sk-label sk-toggleable\"><label>final_estimator</label></div></div><div class=\"sk-serial\"><div class=\"sk-item\"><div class=\"sk-estimator sk-toggleable\"><input class=\"sk-toggleable__control sk-hidden--visually\" id=\"sk-estimator-id-10\" type=\"checkbox\" ><label for=\"sk-estimator-id-10\" class=\"sk-toggleable__label sk-toggleable__label-arrow\">LogisticRegression</label><div class=\"sk-toggleable__content\"><pre>LogisticRegression(n_jobs=-1)</pre></div></div></div></div></div></div></div></div></div></div></div></div>"
      ],
      "text/plain": [
       "StackingClassifier(estimators=[('rf',\n",
       "                                RandomForestClassifier(max_depth=20,\n",
       "                                                       n_estimators=400,\n",
       "                                                       n_jobs=-1,\n",
       "                                                       random_state=1234)),\n",
       "                               ('svm',\n",
       "                                SVC(C=16, gamma=0.6, probability=True,\n",
       "                                    random_state=1234)),\n",
       "                               ('xgb',\n",
       "                                XGBClassifier(base_score=None, booster=None,\n",
       "                                              callbacks=None,\n",
       "                                              colsample_bylevel=None,\n",
       "                                              colsample_bynode=None,\n",
       "                                              colsample_bytree=None,\n",
       "                                              device=None,\n",
       "                                              early_stopping_rounds=N...\n",
       "                                DecisionTreeClassifier(max_depth=18,\n",
       "                                                       random_state=1234)),\n",
       "                               ('nn',\n",
       "                                MLPClassifier(hidden_layer_sizes=(150, 150),\n",
       "                                              max_iter=40, random_state=1234)),\n",
       "                               ('ada',\n",
       "                                AdaBoostClassifier(estimator=RandomForestClassifier(max_depth=20,\n",
       "                                                                                    n_estimators=400,\n",
       "                                                                                    n_jobs=-1,\n",
       "                                                                                    random_state=1234),\n",
       "                                                   random_state=1234)),\n",
       "                               ('knn', KNeighborsClassifier(n_jobs=-1))],\n",
       "                   final_estimator=LogisticRegression(n_jobs=-1), n_jobs=-1)"
      ]
     },
     "execution_count": 30,
     "metadata": {},
     "output_type": "execute_result"
    }
   ],
   "source": [
    "stacking_clf.fit(X_train, y_train)"
   ]
  },
  {
   "cell_type": "code",
   "execution_count": 31,
   "metadata": {},
   "outputs": [
    {
     "data": {
      "text/plain": [
       "'\\nfeature_names = [\"ph\", \"Hardness\", \"Solids\", \"Chloramines\", \"Sulfate\",\\n                 \"Conductivity\", \"Organic_carbon\", \"Trihalomethanes\", \"Turbidity\"]\\n\\nresult = permutation_importance(stacking_clf,X_train,y_train)\\nstack_importances = pd.Series(result.importances_mean, index=feature_names)\\n\\nfig, ax = plt.subplots()\\nstack_importances.plot.bar(yerr=result.importances_std, ax=ax)\\nax.set_title(\"Feature importances using permutation on full model\")\\nax.set_ylabel(\"Mean accuracy decrease\")\\nfig.tight_layout()\\nplt.show()\\n'"
      ]
     },
     "execution_count": 31,
     "metadata": {},
     "output_type": "execute_result"
    }
   ],
   "source": [
    "\"\"\"\n",
    "feature_names = [\"ph\", \"Hardness\", \"Solids\", \"Chloramines\", \"Sulfate\",\n",
    "                 \"Conductivity\", \"Organic_carbon\", \"Trihalomethanes\", \"Turbidity\"]\n",
    "\n",
    "result = permutation_importance(stacking_clf,X_train,y_train)\n",
    "stack_importances = pd.Series(result.importances_mean, index=feature_names)\n",
    "\n",
    "fig, ax = plt.subplots()\n",
    "stack_importances.plot.bar(yerr=result.importances_std, ax=ax)\n",
    "ax.set_title(\"Feature importances using permutation on full model\")\n",
    "ax.set_ylabel(\"Mean accuracy decrease\")\n",
    "fig.tight_layout()\n",
    "plt.show()\n",
    "\"\"\""
   ]
  },
  {
   "cell_type": "code",
   "execution_count": 32,
   "metadata": {},
   "outputs": [
    {
     "data": {
      "text/plain": [
       "array([0, 0, 0, 0, 0, 1, 0, 1, 0, 0, 1, 0, 1, 0, 0, 0, 1, 1, 0, 1, 1, 0,\n",
       "       0, 0, 0, 1, 0, 1, 1, 0, 0, 0, 1, 0, 1, 0, 0, 0, 1, 0, 0, 0, 1, 0,\n",
       "       0, 0, 1, 0, 0, 0, 1, 1, 1, 0, 1, 0, 0, 1, 1, 0, 1, 0, 1, 0, 1, 1,\n",
       "       0, 0, 0, 0, 0, 1, 0, 1, 0, 1, 1, 1, 0, 0, 0, 1, 0, 0, 1, 0, 0, 1,\n",
       "       0, 0, 0, 0, 1, 1, 0, 0, 0, 0, 1, 1, 0, 1, 0, 0, 0, 1, 1, 1, 1, 1,\n",
       "       0, 0, 0, 0, 1, 0, 1, 0, 0, 0, 0, 0, 0, 0, 0, 1, 1, 1, 1, 1, 0, 0,\n",
       "       0, 0, 0, 1, 0, 1, 1, 0, 0, 1, 0, 0, 0, 1, 0, 0, 1, 0, 1, 0, 0, 0,\n",
       "       0, 0, 0, 0, 1, 1, 0, 0, 0, 0, 0, 0, 0, 0, 1, 0, 1, 1, 0, 0, 1, 0,\n",
       "       0, 1, 0, 0, 0, 0, 1, 1, 1, 1, 1, 0, 0, 1, 0, 0, 1, 0, 1, 0, 0, 1,\n",
       "       0, 1, 0, 0, 0, 0, 0, 0, 0, 1, 1, 0, 0, 0, 0, 0, 1, 0, 0, 0, 0, 0,\n",
       "       0, 0, 0, 0, 0, 1, 1, 0, 1, 0, 0, 1, 0, 0, 0, 0, 0, 1, 1, 0, 1, 0,\n",
       "       0, 0, 0, 0, 0, 1, 0, 0, 0, 1, 0, 0, 0, 0, 0, 1, 0, 0, 0, 0, 0, 0,\n",
       "       0, 1, 1, 0, 1, 0, 1, 0, 0, 0, 1, 0, 0, 1, 0, 0, 0, 1, 0, 0, 0, 0,\n",
       "       1, 0, 1, 1, 1, 0, 0, 0, 0, 0, 1, 1, 1, 1, 0, 1, 0, 0, 0, 0, 0, 1,\n",
       "       0, 0, 0, 0, 1, 0, 0, 0, 0, 1, 0, 0, 1, 1, 1, 0, 0, 1, 0, 1, 0, 1,\n",
       "       1, 0, 0, 1, 1, 0, 0, 1, 1, 1, 0, 1, 0, 0, 0, 1, 0, 0, 0, 0, 0, 0,\n",
       "       0, 0, 0, 0, 1, 0, 0, 1, 1, 1, 1, 0, 0, 1, 1, 0, 0, 0, 0, 1, 0, 1,\n",
       "       1, 0, 0, 0, 0, 0, 1, 0, 0, 0, 1, 1, 1, 0, 0, 1, 0, 0, 0, 1, 0, 0,\n",
       "       0, 0, 1, 0, 1, 0, 0, 1, 0, 0, 0, 1, 0, 0, 1, 1, 1, 1, 1, 1, 1, 0,\n",
       "       1, 0, 1, 0, 1, 0, 0, 0, 1, 1, 0, 1, 0, 0, 0, 0, 1, 0, 1, 0, 0, 0,\n",
       "       0, 0, 1, 0, 1, 0, 0, 0, 0, 1, 1, 0, 1, 0, 0, 0, 1, 0, 1, 0, 0, 1,\n",
       "       0, 0, 0, 0, 0, 0, 0, 0, 0, 0, 0, 0, 0, 0, 0, 0, 0, 1, 0, 0, 0, 1,\n",
       "       0, 0, 0, 0, 1, 0, 0, 1, 0, 0, 0, 1, 1, 0, 1, 0, 0, 0, 1, 1, 1, 0,\n",
       "       1, 0, 0, 0, 0, 0, 1, 0, 0, 0, 1, 1, 0, 1, 0, 0, 0, 0, 0, 0, 0, 0,\n",
       "       0, 0, 1, 1, 0, 1, 0, 0, 0, 1, 0, 1, 1, 0, 0, 1, 1, 0, 0, 0, 0, 0,\n",
       "       1, 0, 0, 0, 0, 0, 0, 0, 0, 0, 1, 0, 0, 1, 0, 0, 1, 1, 0, 0, 0, 1,\n",
       "       1, 0, 0, 0, 0, 1, 1, 1, 0, 0, 1, 0, 0, 1, 1, 0, 1, 0, 1, 1, 1, 1,\n",
       "       0, 1, 0, 0, 0, 1, 1, 0, 0, 1, 0, 0, 0, 0, 1, 0, 0, 1, 1, 0, 1, 1,\n",
       "       1, 1, 1, 0, 0, 0, 0, 0, 1, 1, 0, 0, 0, 1, 1, 0, 0, 0, 1, 0, 1, 0,\n",
       "       0, 1, 0, 1, 0, 1, 1, 0, 1, 1, 0, 1, 1, 0, 0, 0, 0, 1], dtype=int64)"
      ]
     },
     "execution_count": 32,
     "metadata": {},
     "output_type": "execute_result"
    }
   ],
   "source": [
    "y_pred = stacking_clf.predict(X_test)\n",
    "y_pred"
   ]
  },
  {
   "cell_type": "code",
   "execution_count": 33,
   "metadata": {},
   "outputs": [],
   "source": [
    "pickle.dump(standardizer,open('scaler.pkl','wb'))\n",
    "pickle.dump(stacking_clf,open('model.pkl','wb'))"
   ]
  },
  {
   "cell_type": "code",
   "execution_count": 34,
   "metadata": {},
   "outputs": [],
   "source": [
    "#train_data.to_csv(\"train_data.csv\", index=False)\n",
    "#test_data.to_csv(\"test_data.csv\",index=False)"
   ]
  },
  {
   "cell_type": "markdown",
   "metadata": {},
   "source": [
    "# Save the predictions"
   ]
  },
  {
   "cell_type": "code",
   "execution_count": 35,
   "metadata": {},
   "outputs": [],
   "source": [
    "\n",
    "# Create a DataFrame with \"id\" and \"prediction\" columns\n",
    "submission_df = pd.DataFrame({\"ID\": test_data[\"ID\"], \"prediction\": y_pred})\n",
    "\n",
    "# Save the submission DataFrame to a CSV file\n",
    "submission_df.to_csv(\"submission.csv\", index=False)\n"
   ]
  },
  {
   "cell_type": "code",
   "execution_count": 45,
   "metadata": {},
   "outputs": [],
   "source": [
    "\n",
    "original_columns = [\"ph\", \"Hardness\", \"Solids\", \"Chloramines\", \"Sulfate\", \"Conductivity\", \"Organic_carbon\",\n",
    "                    \"Trihalomethanes\", \"Turbidity\"]\n",
    "\n",
    "X_test_df = pd.DataFrame(X_test, columns=original_columns)\n",
    "X_test_df[\"Potability\"] = y_pred\n",
    "X_test_df.to_csv(\"X_test_final.csv\", index=False)"
   ]
  }
 ],
 "metadata": {
  "kernelspec": {
   "display_name": "Python 3.9.13 ('aase')",
   "language": "python",
   "name": "python3"
  },
  "language_info": {
   "codemirror_mode": {
    "name": "ipython",
    "version": 3
   },
   "file_extension": ".py",
   "mimetype": "text/x-python",
   "name": "python",
   "nbconvert_exporter": "python",
   "pygments_lexer": "ipython3",
   "version": "3.11.3"
  },
  "orig_nbformat": 4,
  "vscode": {
   "interpreter": {
    "hash": "941a02c14a17852a9cb07cad892c4a36ec1d8a3f93fc8ad448615ff7fbd85d7b"
   }
  }
 },
 "nbformat": 4,
 "nbformat_minor": 2
}
